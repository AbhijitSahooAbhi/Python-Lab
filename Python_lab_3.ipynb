{
  "cells": [
    {
      "cell_type": "markdown",
      "metadata": {
        "id": "view-in-github",
        "colab_type": "text"
      },
      "source": [
        "<a href=\"https://colab.research.google.com/github/AbhijitSahooAbhi/Python-Lab/blob/main/Python_lab_3.ipynb\" target=\"_parent\"><img src=\"https://colab.research.google.com/assets/colab-badge.svg\" alt=\"Open In Colab\"/></a>"
      ]
    },
    {
      "cell_type": "code",
      "source": [],
      "metadata": {
        "id": "uK5CoJHrPZhK"
      },
      "execution_count": null,
      "outputs": []
    },
    {
      "cell_type": "markdown",
      "source": [
        "# Find greatest of three given numbers using functions. pass three arugments"
      ],
      "metadata": {
        "id": "wdN8d6qVOyD3"
      }
    },
    {
      "cell_type": "code",
      "source": [
        "\n",
        "\n",
        "def find_greatest(num1, num2, num3):\n",
        "\n",
        "  greatest = num1\n",
        "  if num2 > greatest:\n",
        "    greatest = num2\n",
        "  if num3 > greatest:\n",
        "    greatest = num3\n",
        "  return greatest\n",
        "\n",
        "\n",
        "greatest_number = find_greatest(261, 228, 115)\n",
        "print(\"The greatest number is:\", greatest_number)\n"
      ],
      "metadata": {
        "id": "hRLRQqXqe-ze",
        "outputId": "26e3560d-c368-490d-cc28-e9bf0f2c393a",
        "colab": {
          "base_uri": "https://localhost:8080/"
        }
      },
      "execution_count": null,
      "outputs": [
        {
          "output_type": "stream",
          "name": "stdout",
          "text": [
            "The greatest number is: 261\n"
          ]
        }
      ]
    },
    {
      "cell_type": "markdown",
      "source": [
        "# Write a program to get a string made of the first 2 and last 2 characters from a given string if the string length is less than 2 return empty string. take input from user\n"
      ],
      "metadata": {
        "id": "yHbzH-SqOuis"
      }
    },
    {
      "cell_type": "code",
      "source": [
        "\n",
        "def string_ends(str):\n",
        "  if len(str) < 2:\n",
        "    return \"\"\n",
        "  return str[0:2] + str[-2:]\n",
        "\n",
        "\n",
        "input_string = input(\"Enter a string: \")\n",
        "result = string_ends(input_string)\n",
        "print(\"Result:\", result)\n"
      ],
      "metadata": {
        "id": "hh0E9ucPhA6O",
        "outputId": "2e8f097c-e71a-45f8-9bf0-4a251a07e21f",
        "colab": {
          "base_uri": "https://localhost:8080/"
        }
      },
      "execution_count": null,
      "outputs": [
        {
          "output_type": "stream",
          "name": "stdout",
          "text": [
            "Enter a string: Abhijit\n",
            "Result: Abit\n"
          ]
        }
      ]
    },
    {
      "cell_type": "markdown",
      "source": [
        "# Write a program that fetches data from a specified URL and writes it in a file."
      ],
      "metadata": {
        "id": "vPLEZp-GPQTk"
      }
    },
    {
      "cell_type": "code",
      "source": [
        "\n",
        "\n",
        "import requests\n",
        "\n",
        "def fetch_and_write_data(url, filename):\n",
        "\n",
        "  try:\n",
        "    response = requests.get(url)\n",
        "    response.raise_for_status()  # Raise an exception for bad status codes\n",
        "\n",
        "    with open(filename, 'w') as f:\n",
        "      f.write(response.text)\n",
        "    print(f\"Data fetched successfully and written to {filename}\")\n",
        "  except requests.exceptions.RequestException as e:\n",
        "    print(f\"Error fetching data from {url}: {e}\")\n",
        "\n",
        "\n",
        "if __name__ == \"__main__\":\n",
        "  url = \"https://www.google.com\"  # Replace with the desired URL\n",
        "  filename = \"fetched_data.txt\"\n",
        "  fetch_and_write_data(url, filename)\n"
      ],
      "metadata": {
        "id": "S0Z6sdgIkah7",
        "outputId": "27156b69-bee7-4581-f226-cb52bf7a6501",
        "colab": {
          "base_uri": "https://localhost:8080/"
        }
      },
      "execution_count": null,
      "outputs": [
        {
          "output_type": "stream",
          "name": "stdout",
          "text": [
            "Data fetched successfully and written to fetched_data.txt\n"
          ]
        }
      ]
    }
  ],
  "metadata": {
    "colab": {
      "toc_visible": true,
      "provenance": [],
      "include_colab_link": true
    },
    "kernelspec": {
      "display_name": "Python 3",
      "name": "python3"
    }
  },
  "nbformat": 4,
  "nbformat_minor": 0
}